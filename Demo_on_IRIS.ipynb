{
 "cells": [
  {
   "cell_type": "code",
   "execution_count": null,
   "metadata": {
    "ExecuteTime": {
     "end_time": "2020-06-26T07:57:00.429642Z",
     "start_time": "2020-06-26T07:57:00.001727Z"
    }
   },
   "outputs": [],
   "source": []
  },
  {
   "cell_type": "code",
   "execution_count": 1,
   "metadata": {
    "ExecuteTime": {
     "end_time": "2020-06-26T11:24:00.968387Z",
     "start_time": "2020-06-26T11:24:00.964508Z"
    }
   },
   "outputs": [],
   "source": [
    "# !git clone https://github.com/jxnl/dirichlet-vae.git"
   ]
  },
  {
   "cell_type": "markdown",
   "metadata": {},
   "source": [
    "# Import Packages"
   ]
  },
  {
   "cell_type": "code",
   "execution_count": 2,
   "metadata": {
    "ExecuteTime": {
     "end_time": "2020-06-26T11:24:02.915039Z",
     "start_time": "2020-06-26T11:24:00.973405Z"
    }
   },
   "outputs": [
    {
     "name": "stderr",
     "output_type": "stream",
     "text": [
      "Using TensorFlow backend.\n"
     ]
    }
   ],
   "source": [
    "from vae.dirichlet import SamplingReparamLaplace, SamplingReparamKL, DirVae\n",
    "from vae.gauss import GaussVae\n",
    "import pandas as pd\n",
    "from sklearn import datasets\n",
    "from sklearn.model_selection import StratifiedKFold,StratifiedShuffleSplit,train_test_split\n",
    "from keras.datasets import mnist\n",
    "from tqdm import tqdm_notebook\n",
    "\n",
    "import numpy as np"
   ]
  },
  {
   "cell_type": "markdown",
   "metadata": {},
   "source": [
    "# Generate Dummy Data"
   ]
  },
  {
   "cell_type": "code",
   "execution_count": 3,
   "metadata": {
    "ExecuteTime": {
     "end_time": "2020-06-26T11:24:02.921124Z",
     "start_time": "2020-06-26T11:24:02.917691Z"
    }
   },
   "outputs": [],
   "source": [
    "# def get_data():\n",
    "#     (x_train, y_train), (x_test, y_test) = mnist.load_data()\n",
    "\n",
    "#     x_train = x_train.astype('float32') / 255.\n",
    "#     x_test = x_test.astype('float32') / 255.\n",
    "#     x_train = x_train.reshape((len(x_train), np.prod(x_train.shape[1:])))\n",
    "#     x_test = x_test.reshape((len(x_test), np.prod(x_test.shape[1:])))\n",
    "#     return x_train, x_test, y_train, y_test"
   ]
  },
  {
   "cell_type": "markdown",
   "metadata": {},
   "source": [
    "# Download Iris Dataset"
   ]
  },
  {
   "cell_type": "code",
   "execution_count": 4,
   "metadata": {
    "ExecuteTime": {
     "end_time": "2020-06-26T11:24:02.931520Z",
     "start_time": "2020-06-26T11:24:02.924515Z"
    }
   },
   "outputs": [],
   "source": [
    "\n",
    "\n",
    "iris = datasets.load_iris()"
   ]
  },
  {
   "cell_type": "code",
   "execution_count": 5,
   "metadata": {
    "ExecuteTime": {
     "end_time": "2020-06-26T11:24:02.937790Z",
     "start_time": "2020-06-26T11:24:02.934201Z"
    }
   },
   "outputs": [],
   "source": [
    "X = iris['data']\n",
    "y = iris['target']"
   ]
  },
  {
   "cell_type": "markdown",
   "metadata": {},
   "source": [
    "## Scale Data"
   ]
  },
  {
   "cell_type": "code",
   "execution_count": 6,
   "metadata": {
    "ExecuteTime": {
     "end_time": "2020-06-26T11:24:02.945423Z",
     "start_time": "2020-06-26T11:24:02.941016Z"
    }
   },
   "outputs": [],
   "source": [
    "for i in range(0,len(X[0])):\n",
    "    X[:,i] = X[:,i]/max(X[:,i])"
   ]
  },
  {
   "cell_type": "markdown",
   "metadata": {},
   "source": [
    "## Duplicate Data"
   ]
  },
  {
   "cell_type": "code",
   "execution_count": 7,
   "metadata": {
    "ExecuteTime": {
     "end_time": "2020-06-26T11:24:02.952688Z",
     "start_time": "2020-06-26T11:24:02.947799Z"
    }
   },
   "outputs": [],
   "source": [
    "from copy import deepcopy\n",
    "\n",
    "for i in range(0,5):\n",
    "    X = np.concatenate((X,X))\n",
    "    y = np.concatenate((y,y))"
   ]
  },
  {
   "cell_type": "code",
   "execution_count": 8,
   "metadata": {
    "ExecuteTime": {
     "end_time": "2020-06-26T11:24:02.968124Z",
     "start_time": "2020-06-26T11:24:02.955444Z"
    }
   },
   "outputs": [
    {
     "data": {
      "text/plain": [
       "4800"
      ]
     },
     "execution_count": 8,
     "metadata": {},
     "output_type": "execute_result"
    }
   ],
   "source": [
    "len(X)"
   ]
  },
  {
   "cell_type": "code",
   "execution_count": 9,
   "metadata": {
    "ExecuteTime": {
     "end_time": "2020-06-26T11:24:02.975363Z",
     "start_time": "2020-06-26T11:24:02.970870Z"
    }
   },
   "outputs": [
    {
     "data": {
      "text/plain": [
       "dict_keys(['data', 'target', 'target_names', 'DESCR', 'feature_names', 'filename'])"
      ]
     },
     "execution_count": 9,
     "metadata": {},
     "output_type": "execute_result"
    }
   ],
   "source": [
    "iris.keys()"
   ]
  },
  {
   "cell_type": "markdown",
   "metadata": {},
   "source": [
    "# Train-Test Split"
   ]
  },
  {
   "cell_type": "code",
   "execution_count": 10,
   "metadata": {
    "ExecuteTime": {
     "end_time": "2020-06-26T11:24:02.983401Z",
     "start_time": "2020-06-26T11:24:02.977921Z"
    }
   },
   "outputs": [],
   "source": [
    "x_train, x_test, y_train, y_test = train_test_split(X,y,stratify=y)"
   ]
  },
  {
   "cell_type": "markdown",
   "metadata": {},
   "source": [
    "## Check Stratification"
   ]
  },
  {
   "cell_type": "code",
   "execution_count": 11,
   "metadata": {
    "ExecuteTime": {
     "end_time": "2020-06-26T11:24:02.990420Z",
     "start_time": "2020-06-26T11:24:02.985519Z"
    }
   },
   "outputs": [
    {
     "data": {
      "text/plain": [
       "(array([0, 1, 2]), array([400, 400, 400]))"
      ]
     },
     "execution_count": 11,
     "metadata": {},
     "output_type": "execute_result"
    }
   ],
   "source": [
    "# y_test\n",
    "np.unique(y_test, return_counts=True)"
   ]
  },
  {
   "cell_type": "code",
   "execution_count": 12,
   "metadata": {
    "ExecuteTime": {
     "end_time": "2020-06-26T11:24:02.997743Z",
     "start_time": "2020-06-26T11:24:02.992915Z"
    }
   },
   "outputs": [
    {
     "data": {
      "text/plain": [
       "(array([0, 1, 2]), array([1200, 1200, 1200]))"
      ]
     },
     "execution_count": 12,
     "metadata": {},
     "output_type": "execute_result"
    }
   ],
   "source": [
    "np.unique(y_train, return_counts=True)"
   ]
  },
  {
   "cell_type": "markdown",
   "metadata": {},
   "source": [
    "Labels seem to be evenly divided in train and test datasets"
   ]
  },
  {
   "cell_type": "markdown",
   "metadata": {},
   "source": [
    "# Init Models & Train"
   ]
  },
  {
   "cell_type": "code",
   "execution_count": 13,
   "metadata": {
    "ExecuteTime": {
     "end_time": "2020-06-26T11:24:03.003088Z",
     "start_time": "2020-06-26T11:24:03.000052Z"
    }
   },
   "outputs": [],
   "source": [
    "from keras import callbacks as cb\n",
    "\n",
    "cb_earlystop = cb.EarlyStopping(\n",
    "    monitor='val_loss', min_delta=0.1, patience=4, verbose=0, mode='auto')\n",
    "\n",
    "models = {}"
   ]
  },
  {
   "cell_type": "markdown",
   "metadata": {},
   "source": [
    "## Model Parameters"
   ]
  },
  {
   "cell_type": "code",
   "execution_count": 14,
   "metadata": {
    "ExecuteTime": {
     "end_time": "2020-06-26T11:24:03.009647Z",
     "start_time": "2020-06-26T11:24:03.005368Z"
    }
   },
   "outputs": [],
   "source": [
    "o_dim = 4\n",
    "h_dim = 4\n",
    "c_dim = 2\n",
    "\n",
    "BATCH_SIZE = 16\n",
    "# o_dim = 784\n",
    "# h_dim = 300\n",
    "# c_dim = 15\n",
    "# BATCH_SIZE = 16"
   ]
  },
  {
   "cell_type": "code",
   "execution_count": 15,
   "metadata": {
    "ExecuteTime": {
     "end_time": "2020-06-26T11:24:03.015816Z",
     "start_time": "2020-06-26T11:24:03.011871Z"
    }
   },
   "outputs": [],
   "source": [
    "c = lambda _: [\n",
    "    cb_earlystop, \n",
    "    cb.CSVLogger(\"./log_results/log.{}.csv\".format(_))]\n",
    "model_types = [\"dirichlet_laplace\", \"dirichlet_kl\", \"logit\", \"normal\"]"
   ]
  },
  {
   "cell_type": "code",
   "execution_count": 16,
   "metadata": {
    "ExecuteTime": {
     "end_time": "2020-06-26T11:24:03.042674Z",
     "start_time": "2020-06-26T11:24:03.018129Z"
    }
   },
   "outputs": [],
   "source": [
    "models[\"dirichlet_laplace\"] = DirVae(\n",
    "    reparam=SamplingReparamLaplace, \n",
    "    batch_size=BATCH_SIZE, \n",
    "    original_dim=o_dim, \n",
    "    encoder_widths=h_dim, \n",
    "    latent_dim=c_dim, \n",
    "    decoder_width=h_dim,)\n",
    "#     log_alpha=True,  These two arguments are throwing errors, please check\n",
    "#     dropout=True)\n",
    "\n",
    "models[\"dirichlet_kl\"] = DirVae(\n",
    "    reparam=SamplingReparamLaplace, \n",
    "    batch_size=BATCH_SIZE, \n",
    "    original_dim=o_dim, \n",
    "    encoder_widths=h_dim, \n",
    "    latent_dim=c_dim, \n",
    "    decoder_width=h_dim,)\n",
    "#     log_alpha=True,\n",
    "#     dropout=True)\n",
    "\n",
    "models[\"logit\"] = GaussVae(\n",
    "    batch_size=BATCH_SIZE, \n",
    "    original_dim=o_dim, \n",
    "    encoder_widths=h_dim, \n",
    "    latent_dim=c_dim, \n",
    "    decoder_width=h_dim,\n",
    "    logit=True)\n",
    "\n",
    "models[\"normal\"] = GaussVae(\n",
    "    batch_size=BATCH_SIZE, \n",
    "    original_dim=o_dim, \n",
    "    encoder_widths=h_dim, \n",
    "    latent_dim=c_dim, \n",
    "    decoder_width=h_dim,\n",
    "    logit=False)"
   ]
  },
  {
   "cell_type": "code",
   "execution_count": 17,
   "metadata": {
    "ExecuteTime": {
     "end_time": "2020-06-26T11:24:03.048979Z",
     "start_time": "2020-06-26T11:24:03.044917Z"
    }
   },
   "outputs": [
    {
     "data": {
      "text/plain": [
       "['dirichlet_laplace', 'dirichlet_kl', 'logit', 'normal']"
      ]
     },
     "execution_count": 17,
     "metadata": {},
     "output_type": "execute_result"
    }
   ],
   "source": [
    "model_types"
   ]
  },
  {
   "cell_type": "markdown",
   "metadata": {},
   "source": [
    "## Fit Data"
   ]
  },
  {
   "cell_type": "code",
   "execution_count": 18,
   "metadata": {
    "ExecuteTime": {
     "end_time": "2020-06-26T11:24:15.905740Z",
     "start_time": "2020-06-26T11:24:03.051231Z"
    }
   },
   "outputs": [
    {
     "name": "stderr",
     "output_type": "stream",
     "text": [
      "/usr/local/anaconda/lib/python3.6/site-packages/ipykernel_launcher.py:1: TqdmDeprecationWarning: This function will be removed in tqdm==5.0.0\n",
      "Please use `tqdm.notebook.tqdm` instead of `tqdm.tqdm_notebook`\n",
      "  \"\"\"Entry point for launching an IPython kernel.\n"
     ]
    },
    {
     "data": {
      "application/vnd.jupyter.widget-view+json": {
       "model_id": "a95f96502a4e448095daca4240a0e7c6",
       "version_major": 2,
       "version_minor": 0
      },
      "text/plain": [
       "HBox(children=(FloatProgress(value=0.0, max=4.0), HTML(value='')))"
      ]
     },
     "metadata": {},
     "output_type": "display_data"
    },
    {
     "name": "stderr",
     "output_type": "stream",
     "text": [
      "/mnt/04_dirichlet_vae/Notebook/dirichlet-vae/vae/dirichlet.py:210: UserWarning: The `nb_epoch` argument in `fit` has been renamed `epochs`.\n",
      "  **kwargs))\n"
     ]
    },
    {
     "name": "stdout",
     "output_type": "stream",
     "text": [
      "Trianing dirichlet_laplacemodel\n",
      "Train on 3600 samples, validate on 1200 samples\n",
      "Epoch 1/30\n",
      "3600/3600 [==============================] - 1s 240us/step - loss: 1.7419 - val_loss: 1.5260\n",
      "Epoch 2/30\n",
      "3600/3600 [==============================] - 0s 96us/step - loss: 1.4742 - val_loss: 1.4442\n",
      "Epoch 3/30\n",
      "3600/3600 [==============================] - 0s 93us/step - loss: 1.4408 - val_loss: 1.4317\n",
      "Epoch 4/30\n",
      "3600/3600 [==============================] - 0s 99us/step - loss: 1.4343 - val_loss: 1.4303\n",
      "Epoch 5/30\n",
      "3600/3600 [==============================] - 0s 92us/step - loss: 1.4322 - val_loss: 1.4260\n",
      "Trianing dirichlet_klmodel\n",
      "Train on 3600 samples, validate on 1200 samples\n",
      "Epoch 1/30\n",
      "3600/3600 [==============================] - 1s 245us/step - loss: 1.7008 - val_loss: 1.5691\n",
      "Epoch 2/30\n",
      "3600/3600 [==============================] - 0s 94us/step - loss: 1.5210 - val_loss: 1.4852\n",
      "Epoch 3/30\n",
      "3600/3600 [==============================] - 0s 96us/step - loss: 1.4712 - val_loss: 1.4535\n",
      "Epoch 4/30\n",
      "3600/3600 [==============================] - 0s 98us/step - loss: 1.4467 - val_loss: 1.4330\n",
      "Epoch 5/30\n",
      "3600/3600 [==============================] - 0s 95us/step - loss: 1.4332 - val_loss: 1.4253\n",
      "Epoch 6/30\n",
      "3600/3600 [==============================] - 0s 96us/step - loss: 1.4283 - val_loss: 1.4230\n",
      "Epoch 7/30\n",
      "3600/3600 [==============================] - 0s 96us/step - loss: 1.4270 - val_loss: 1.4228\n",
      "Trianing logitmodel\n"
     ]
    },
    {
     "name": "stderr",
     "output_type": "stream",
     "text": [
      "/mnt/04_dirichlet_vae/Notebook/dirichlet-vae/vae/gauss.py:88: UserWarning: The `nb_epoch` argument in `fit` has been renamed `epochs`.\n",
      "  **kwargs))\n"
     ]
    },
    {
     "name": "stdout",
     "output_type": "stream",
     "text": [
      "Train on 3600 samples, validate on 1200 samples\n",
      "Epoch 1/30\n",
      "3600/3600 [==============================] - 1s 230us/step - loss: 2.7207 - val_loss: 2.6195\n",
      "Epoch 2/30\n",
      "3600/3600 [==============================] - 0s 92us/step - loss: 2.5897 - val_loss: 2.5738\n",
      "Epoch 3/30\n",
      "3600/3600 [==============================] - 0s 89us/step - loss: 2.5753 - val_loss: 2.5679\n",
      "Epoch 4/30\n",
      "3600/3600 [==============================] - 0s 92us/step - loss: 2.5727 - val_loss: 2.5685\n",
      "Epoch 5/30\n",
      "3600/3600 [==============================] - 0s 90us/step - loss: 2.5718 - val_loss: 2.5686\n",
      "Trianing normalmodel\n",
      "Train on 3600 samples, validate on 1200 samples\n",
      "Epoch 1/30\n",
      "3600/3600 [==============================] - 1s 244us/step - loss: 2.7574 - val_loss: 2.6729\n",
      "Epoch 2/30\n",
      "3600/3600 [==============================] - 0s 91us/step - loss: 2.6401 - val_loss: 2.6108\n",
      "Epoch 3/30\n",
      "3600/3600 [==============================] - 0s 92us/step - loss: 2.6031 - val_loss: 2.5914\n",
      "Epoch 4/30\n",
      "3600/3600 [==============================] - 0s 95us/step - loss: 2.5872 - val_loss: 2.5730\n",
      "Epoch 5/30\n",
      "3600/3600 [==============================] - 0s 90us/step - loss: 2.5800 - val_loss: 2.5757\n",
      "\n"
     ]
    }
   ],
   "source": [
    "for i in tqdm_notebook(range(0,len(model_types))):\n",
    "    print(\"Trianing {}model\".format(model_types[i]))\n",
    "    models[model_types[i]].fit(\n",
    "                            x_train,\n",
    "                            x_test,\n",
    "    #                            x_train,\n",
    "                           callbacks=c(model_types[i]), \n",
    "                           nb_epoch=30)"
   ]
  },
  {
   "cell_type": "markdown",
   "metadata": {},
   "source": [
    "# Evaluation"
   ]
  },
  {
   "cell_type": "code",
   "execution_count": 19,
   "metadata": {
    "ExecuteTime": {
     "end_time": "2020-06-26T11:24:16.007905Z",
     "start_time": "2020-06-26T11:24:15.909081Z"
    }
   },
   "outputs": [],
   "source": [
    "from vae.evaluate import MnistMetrics\n",
    "\n",
    "%matplotlib inline"
   ]
  },
  {
   "cell_type": "code",
   "execution_count": 20,
   "metadata": {
    "ExecuteTime": {
     "end_time": "2020-06-26T11:24:16.014246Z",
     "start_time": "2020-06-26T11:24:16.010022Z"
    }
   },
   "outputs": [
    {
     "data": {
      "text/plain": [
       "['dirichlet_laplace', 'dirichlet_kl', 'logit', 'normal']"
      ]
     },
     "execution_count": 20,
     "metadata": {},
     "output_type": "execute_result"
    }
   ],
   "source": [
    "model_types"
   ]
  },
  {
   "cell_type": "code",
   "execution_count": 21,
   "metadata": {
    "ExecuteTime": {
     "end_time": "2020-06-26T11:24:16.019590Z",
     "start_time": "2020-06-26T11:24:16.016583Z"
    }
   },
   "outputs": [],
   "source": [
    "# models[model_types[2]].finalize()"
   ]
  },
  {
   "cell_type": "code",
   "execution_count": 27,
   "metadata": {
    "ExecuteTime": {
     "end_time": "2020-06-26T13:28:38.306295Z",
     "start_time": "2020-06-26T13:28:38.271802Z"
    }
   },
   "outputs": [],
   "source": [
    "m = MnistMetrics(models[model_types[1]], x_test, y_test)#, logit=False)"
   ]
  },
  {
   "cell_type": "code",
   "execution_count": 29,
   "metadata": {
    "ExecuteTime": {
     "end_time": "2020-06-26T13:28:50.849032Z",
     "start_time": "2020-06-26T13:28:50.844443Z"
    }
   },
   "outputs": [
    {
     "data": {
      "text/plain": [
       "<vae.dirichlet.DirVae at 0x7fe55bc67b38>"
      ]
     },
     "execution_count": 29,
     "metadata": {},
     "output_type": "execute_result"
    }
   ],
   "source": [
    "m.vae"
   ]
  },
  {
   "cell_type": "code",
   "execution_count": 26,
   "metadata": {
    "ExecuteTime": {
     "end_time": "2020-06-26T13:23:59.456188Z",
     "start_time": "2020-06-26T13:23:58.172819Z"
    }
   },
   "outputs": [
    {
     "ename": "ValueError",
     "evalue": "Layout of 5x2 must be larger than required size 1200",
     "output_type": "error",
     "traceback": [
      "\u001b[0;31m---------------------------------------------------------------------------\u001b[0m",
      "\u001b[0;31mValueError\u001b[0m                                Traceback (most recent call last)",
      "\u001b[0;32m<ipython-input-26-cd71ba9013e9>\u001b[0m in \u001b[0;36m<module>\u001b[0;34m()\u001b[0m\n\u001b[0;32m----> 1\u001b[0;31m \u001b[0mm\u001b[0m\u001b[0;34m.\u001b[0m\u001b[0mplot_bar\u001b[0m\u001b[0;34m(\u001b[0m\u001b[0;34m)\u001b[0m\u001b[0;34m\u001b[0m\u001b[0m\n\u001b[0m",
      "\u001b[0;32m/mnt/04_dirichlet_vae/Notebook/dirichlet-vae/vae/evaluate.py\u001b[0m in \u001b[0;36mplot_bar\u001b[0;34m(self)\u001b[0m\n\u001b[1;32m     27\u001b[0m     \u001b[0;32mdef\u001b[0m \u001b[0mplot_bar\u001b[0m\u001b[0;34m(\u001b[0m\u001b[0mself\u001b[0m\u001b[0;34m)\u001b[0m\u001b[0;34m:\u001b[0m\u001b[0;34m\u001b[0m\u001b[0m\n\u001b[1;32m     28\u001b[0m         self.df.T.plot(kind=\"bar\", subplots=(10), layout=(5, 2),\n\u001b[0;32m---> 29\u001b[0;31m                        figsize=(10, 10), legend=False)\n\u001b[0m\u001b[1;32m     30\u001b[0m \u001b[0;34m\u001b[0m\u001b[0m\n\u001b[1;32m     31\u001b[0m     \u001b[0;32mdef\u001b[0m \u001b[0mplot_mean_digits\u001b[0m\u001b[0;34m(\u001b[0m\u001b[0mself\u001b[0m\u001b[0;34m)\u001b[0m\u001b[0;34m:\u001b[0m\u001b[0;34m\u001b[0m\u001b[0m\n",
      "\u001b[0;32m/usr/local/anaconda/lib/python3.6/site-packages/pandas/plotting/_core.py\u001b[0m in \u001b[0;36m__call__\u001b[0;34m(self, *args, **kwargs)\u001b[0m\n\u001b[1;32m    792\u001b[0m                     \u001b[0mdata\u001b[0m\u001b[0;34m.\u001b[0m\u001b[0mcolumns\u001b[0m \u001b[0;34m=\u001b[0m \u001b[0mlabel_name\u001b[0m\u001b[0;34m\u001b[0m\u001b[0m\n\u001b[1;32m    793\u001b[0m \u001b[0;34m\u001b[0m\u001b[0m\n\u001b[0;32m--> 794\u001b[0;31m         \u001b[0;32mreturn\u001b[0m \u001b[0mplot_backend\u001b[0m\u001b[0;34m.\u001b[0m\u001b[0mplot\u001b[0m\u001b[0;34m(\u001b[0m\u001b[0mdata\u001b[0m\u001b[0;34m,\u001b[0m \u001b[0mkind\u001b[0m\u001b[0;34m=\u001b[0m\u001b[0mkind\u001b[0m\u001b[0;34m,\u001b[0m \u001b[0;34m**\u001b[0m\u001b[0mkwargs\u001b[0m\u001b[0;34m)\u001b[0m\u001b[0;34m\u001b[0m\u001b[0m\n\u001b[0m\u001b[1;32m    795\u001b[0m \u001b[0;34m\u001b[0m\u001b[0m\n\u001b[1;32m    796\u001b[0m     \u001b[0;32mdef\u001b[0m \u001b[0mline\u001b[0m\u001b[0;34m(\u001b[0m\u001b[0mself\u001b[0m\u001b[0;34m,\u001b[0m \u001b[0mx\u001b[0m\u001b[0;34m=\u001b[0m\u001b[0;32mNone\u001b[0m\u001b[0;34m,\u001b[0m \u001b[0my\u001b[0m\u001b[0;34m=\u001b[0m\u001b[0;32mNone\u001b[0m\u001b[0;34m,\u001b[0m \u001b[0;34m**\u001b[0m\u001b[0mkwargs\u001b[0m\u001b[0;34m)\u001b[0m\u001b[0;34m:\u001b[0m\u001b[0;34m\u001b[0m\u001b[0m\n",
      "\u001b[0;32m/usr/local/anaconda/lib/python3.6/site-packages/pandas/plotting/_matplotlib/__init__.py\u001b[0m in \u001b[0;36mplot\u001b[0;34m(data, kind, **kwargs)\u001b[0m\n\u001b[1;32m     60\u001b[0m             \u001b[0mkwargs\u001b[0m\u001b[0;34m[\u001b[0m\u001b[0;34m\"ax\"\u001b[0m\u001b[0;34m]\u001b[0m \u001b[0;34m=\u001b[0m \u001b[0mgetattr\u001b[0m\u001b[0;34m(\u001b[0m\u001b[0max\u001b[0m\u001b[0;34m,\u001b[0m \u001b[0;34m\"left_ax\"\u001b[0m\u001b[0;34m,\u001b[0m \u001b[0max\u001b[0m\u001b[0;34m)\u001b[0m\u001b[0;34m\u001b[0m\u001b[0m\n\u001b[1;32m     61\u001b[0m     \u001b[0mplot_obj\u001b[0m \u001b[0;34m=\u001b[0m \u001b[0mPLOT_CLASSES\u001b[0m\u001b[0;34m[\u001b[0m\u001b[0mkind\u001b[0m\u001b[0;34m]\u001b[0m\u001b[0;34m(\u001b[0m\u001b[0mdata\u001b[0m\u001b[0;34m,\u001b[0m \u001b[0;34m**\u001b[0m\u001b[0mkwargs\u001b[0m\u001b[0;34m)\u001b[0m\u001b[0;34m\u001b[0m\u001b[0m\n\u001b[0;32m---> 62\u001b[0;31m     \u001b[0mplot_obj\u001b[0m\u001b[0;34m.\u001b[0m\u001b[0mgenerate\u001b[0m\u001b[0;34m(\u001b[0m\u001b[0;34m)\u001b[0m\u001b[0;34m\u001b[0m\u001b[0m\n\u001b[0m\u001b[1;32m     63\u001b[0m     \u001b[0mplot_obj\u001b[0m\u001b[0;34m.\u001b[0m\u001b[0mdraw\u001b[0m\u001b[0;34m(\u001b[0m\u001b[0;34m)\u001b[0m\u001b[0;34m\u001b[0m\u001b[0m\n\u001b[1;32m     64\u001b[0m     \u001b[0;32mreturn\u001b[0m \u001b[0mplot_obj\u001b[0m\u001b[0;34m.\u001b[0m\u001b[0mresult\u001b[0m\u001b[0;34m\u001b[0m\u001b[0m\n",
      "\u001b[0;32m/usr/local/anaconda/lib/python3.6/site-packages/pandas/plotting/_matplotlib/core.py\u001b[0m in \u001b[0;36mgenerate\u001b[0;34m(self)\u001b[0m\n\u001b[1;32m    278\u001b[0m         \u001b[0mself\u001b[0m\u001b[0;34m.\u001b[0m\u001b[0m_args_adjust\u001b[0m\u001b[0;34m(\u001b[0m\u001b[0;34m)\u001b[0m\u001b[0;34m\u001b[0m\u001b[0m\n\u001b[1;32m    279\u001b[0m         \u001b[0mself\u001b[0m\u001b[0;34m.\u001b[0m\u001b[0m_compute_plot_data\u001b[0m\u001b[0;34m(\u001b[0m\u001b[0;34m)\u001b[0m\u001b[0;34m\u001b[0m\u001b[0m\n\u001b[0;32m--> 280\u001b[0;31m         \u001b[0mself\u001b[0m\u001b[0;34m.\u001b[0m\u001b[0m_setup_subplots\u001b[0m\u001b[0;34m(\u001b[0m\u001b[0;34m)\u001b[0m\u001b[0;34m\u001b[0m\u001b[0m\n\u001b[0m\u001b[1;32m    281\u001b[0m         \u001b[0mself\u001b[0m\u001b[0;34m.\u001b[0m\u001b[0m_make_plot\u001b[0m\u001b[0;34m(\u001b[0m\u001b[0;34m)\u001b[0m\u001b[0;34m\u001b[0m\u001b[0m\n\u001b[1;32m    282\u001b[0m         \u001b[0mself\u001b[0m\u001b[0;34m.\u001b[0m\u001b[0m_add_table\u001b[0m\u001b[0;34m(\u001b[0m\u001b[0;34m)\u001b[0m\u001b[0;34m\u001b[0m\u001b[0m\n",
      "\u001b[0;32m/usr/local/anaconda/lib/python3.6/site-packages/pandas/plotting/_matplotlib/core.py\u001b[0m in \u001b[0;36m_setup_subplots\u001b[0;34m(self)\u001b[0m\n\u001b[1;32m    332\u001b[0m                 \u001b[0max\u001b[0m\u001b[0;34m=\u001b[0m\u001b[0mself\u001b[0m\u001b[0;34m.\u001b[0m\u001b[0max\u001b[0m\u001b[0;34m,\u001b[0m\u001b[0;34m\u001b[0m\u001b[0m\n\u001b[1;32m    333\u001b[0m                 \u001b[0mlayout\u001b[0m\u001b[0;34m=\u001b[0m\u001b[0mself\u001b[0m\u001b[0;34m.\u001b[0m\u001b[0mlayout\u001b[0m\u001b[0;34m,\u001b[0m\u001b[0;34m\u001b[0m\u001b[0m\n\u001b[0;32m--> 334\u001b[0;31m                 \u001b[0mlayout_type\u001b[0m\u001b[0;34m=\u001b[0m\u001b[0mself\u001b[0m\u001b[0;34m.\u001b[0m\u001b[0m_layout_type\u001b[0m\u001b[0;34m,\u001b[0m\u001b[0;34m\u001b[0m\u001b[0m\n\u001b[0m\u001b[1;32m    335\u001b[0m             )\n\u001b[1;32m    336\u001b[0m         \u001b[0;32melse\u001b[0m\u001b[0;34m:\u001b[0m\u001b[0;34m\u001b[0m\u001b[0m\n",
      "\u001b[0;32m/usr/local/anaconda/lib/python3.6/site-packages/pandas/plotting/_matplotlib/tools.py\u001b[0m in \u001b[0;36m_subplots\u001b[0;34m(naxes, sharex, sharey, squeeze, subplot_kw, ax, layout, layout_type, **fig_kw)\u001b[0m\n\u001b[1;32m    228\u001b[0m             \u001b[0mfig\u001b[0m\u001b[0;34m.\u001b[0m\u001b[0mclear\u001b[0m\u001b[0;34m(\u001b[0m\u001b[0;34m)\u001b[0m\u001b[0;34m\u001b[0m\u001b[0m\n\u001b[1;32m    229\u001b[0m \u001b[0;34m\u001b[0m\u001b[0m\n\u001b[0;32m--> 230\u001b[0;31m     \u001b[0mnrows\u001b[0m\u001b[0;34m,\u001b[0m \u001b[0mncols\u001b[0m \u001b[0;34m=\u001b[0m \u001b[0m_get_layout\u001b[0m\u001b[0;34m(\u001b[0m\u001b[0mnaxes\u001b[0m\u001b[0;34m,\u001b[0m \u001b[0mlayout\u001b[0m\u001b[0;34m=\u001b[0m\u001b[0mlayout\u001b[0m\u001b[0;34m,\u001b[0m \u001b[0mlayout_type\u001b[0m\u001b[0;34m=\u001b[0m\u001b[0mlayout_type\u001b[0m\u001b[0;34m)\u001b[0m\u001b[0;34m\u001b[0m\u001b[0m\n\u001b[0m\u001b[1;32m    231\u001b[0m     \u001b[0mnplots\u001b[0m \u001b[0;34m=\u001b[0m \u001b[0mnrows\u001b[0m \u001b[0;34m*\u001b[0m \u001b[0mncols\u001b[0m\u001b[0;34m\u001b[0m\u001b[0m\n\u001b[1;32m    232\u001b[0m \u001b[0;34m\u001b[0m\u001b[0m\n",
      "\u001b[0;32m/usr/local/anaconda/lib/python3.6/site-packages/pandas/plotting/_matplotlib/tools.py\u001b[0m in \u001b[0;36m_get_layout\u001b[0;34m(nplots, layout, layout_type)\u001b[0m\n\u001b[1;32m     66\u001b[0m                 \u001b[0;34m\"Layout of {nrows}x{ncols} must be larger \"\u001b[0m\u001b[0;34m\u001b[0m\u001b[0m\n\u001b[1;32m     67\u001b[0m                 \"than required size {nplots}\".format(\n\u001b[0;32m---> 68\u001b[0;31m                     \u001b[0mnrows\u001b[0m\u001b[0;34m=\u001b[0m\u001b[0mnrows\u001b[0m\u001b[0;34m,\u001b[0m \u001b[0mncols\u001b[0m\u001b[0;34m=\u001b[0m\u001b[0mncols\u001b[0m\u001b[0;34m,\u001b[0m \u001b[0mnplots\u001b[0m\u001b[0;34m=\u001b[0m\u001b[0mnplots\u001b[0m\u001b[0;34m\u001b[0m\u001b[0m\n\u001b[0m\u001b[1;32m     69\u001b[0m                 )\n\u001b[1;32m     70\u001b[0m             )\n",
      "\u001b[0;31mValueError\u001b[0m: Layout of 5x2 must be larger than required size 1200"
     ]
    },
    {
     "data": {
      "text/plain": [
       "<Figure size 720x720 with 0 Axes>"
      ]
     },
     "metadata": {},
     "output_type": "display_data"
    }
   ],
   "source": [
    "m.plot_bar()"
   ]
  },
  {
   "cell_type": "code",
   "execution_count": 23,
   "metadata": {
    "ExecuteTime": {
     "end_time": "2020-06-26T11:24:16.142884Z",
     "start_time": "2020-06-26T11:24:16.136448Z"
    }
   },
   "outputs": [],
   "source": [
    "?models[model_types[3]]"
   ]
  },
  {
   "cell_type": "code",
   "execution_count": 24,
   "metadata": {
    "ExecuteTime": {
     "end_time": "2020-06-26T11:24:16.148543Z",
     "start_time": "2020-06-26T11:24:16.145500Z"
    }
   },
   "outputs": [],
   "source": [
    "# model_types[2`]"
   ]
  },
  {
   "cell_type": "code",
   "execution_count": null,
   "metadata": {},
   "outputs": [],
   "source": []
  },
  {
   "cell_type": "code",
   "execution_count": null,
   "metadata": {},
   "outputs": [],
   "source": []
  }
 ],
 "metadata": {
  "hide_input": false,
  "kernelspec": {
   "display_name": "Python 3",
   "language": "python",
   "name": "python3"
  },
  "language_info": {
   "codemirror_mode": {
    "name": "ipython",
    "version": 3
   },
   "file_extension": ".py",
   "mimetype": "text/x-python",
   "name": "python",
   "nbconvert_exporter": "python",
   "pygments_lexer": "ipython3",
   "version": "3.6.6"
  },
  "toc": {
   "base_numbering": 1,
   "nav_menu": {},
   "number_sections": true,
   "sideBar": true,
   "skip_h1_title": false,
   "title_cell": "Table of Contents",
   "title_sidebar": "Contents",
   "toc_cell": false,
   "toc_position": {},
   "toc_section_display": true,
   "toc_window_display": true
  }
 },
 "nbformat": 4,
 "nbformat_minor": 2
}
