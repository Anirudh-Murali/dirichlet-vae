{
 "cells": [
  {
   "cell_type": "code",
   "execution_count": null,
   "metadata": {
    "ExecuteTime": {
     "end_time": "2020-06-26T07:57:00.429642Z",
     "start_time": "2020-06-26T07:57:00.001727Z"
    }
   },
   "outputs": [],
   "source": []
  },
  {
   "cell_type": "code",
   "execution_count": 1,
   "metadata": {
    "ExecuteTime": {
     "end_time": "2020-06-26T09:29:43.715689Z",
     "start_time": "2020-06-26T09:29:43.711806Z"
    }
   },
   "outputs": [],
   "source": [
    "# !git clone https://github.com/jxnl/dirichlet-vae.git"
   ]
  },
  {
   "cell_type": "markdown",
   "metadata": {},
   "source": [
    "# Import Packages"
   ]
  },
  {
   "cell_type": "code",
   "execution_count": 2,
   "metadata": {
    "ExecuteTime": {
     "end_time": "2020-06-26T09:29:45.691519Z",
     "start_time": "2020-06-26T09:29:43.718226Z"
    }
   },
   "outputs": [
    {
     "name": "stderr",
     "output_type": "stream",
     "text": [
      "Using TensorFlow backend.\n"
     ]
    }
   ],
   "source": [
    "from vae.dirichlet import SamplingReparamLaplace, SamplingReparamKL, DirVae\n",
    "from vae.gauss import GaussVae\n",
    "import pandas as pd\n",
    "from sklearn import datasets\n",
    "from sklearn.model_selection import StratifiedKFold,StratifiedShuffleSplit,train_test_split\n",
    "from keras.datasets import mnist\n",
    "from tqdm import tqdm_notebook\n",
    "\n",
    "import numpy as np"
   ]
  },
  {
   "cell_type": "markdown",
   "metadata": {},
   "source": [
    "# Generate Dummy Data"
   ]
  },
  {
   "cell_type": "code",
   "execution_count": 3,
   "metadata": {
    "ExecuteTime": {
     "end_time": "2020-06-26T09:29:45.698913Z",
     "start_time": "2020-06-26T09:29:45.694980Z"
    }
   },
   "outputs": [],
   "source": [
    "# def get_data():\n",
    "#     (x_train, y_train), (x_test, y_test) = mnist.load_data()\n",
    "\n",
    "#     x_train = x_train.astype('float32') / 255.\n",
    "#     x_test = x_test.astype('float32') / 255.\n",
    "#     x_train = x_train.reshape((len(x_train), np.prod(x_train.shape[1:])))\n",
    "#     x_test = x_test.reshape((len(x_test), np.prod(x_test.shape[1:])))\n",
    "#     return x_train, x_test, y_train, y_test"
   ]
  },
  {
   "cell_type": "markdown",
   "metadata": {},
   "source": [
    "# Download Iris Dataset"
   ]
  },
  {
   "cell_type": "code",
   "execution_count": 4,
   "metadata": {
    "ExecuteTime": {
     "end_time": "2020-06-26T09:29:45.709511Z",
     "start_time": "2020-06-26T09:29:45.701993Z"
    }
   },
   "outputs": [],
   "source": [
    "\n",
    "\n",
    "iris = datasets.load_iris()"
   ]
  },
  {
   "cell_type": "code",
   "execution_count": 5,
   "metadata": {
    "ExecuteTime": {
     "end_time": "2020-06-26T09:29:45.715574Z",
     "start_time": "2020-06-26T09:29:45.712235Z"
    }
   },
   "outputs": [],
   "source": [
    "X = iris['data']\n",
    "y = iris['target']"
   ]
  },
  {
   "cell_type": "markdown",
   "metadata": {},
   "source": [
    "## Scale Data"
   ]
  },
  {
   "cell_type": "code",
   "execution_count": 6,
   "metadata": {
    "ExecuteTime": {
     "end_time": "2020-06-26T09:29:45.722979Z",
     "start_time": "2020-06-26T09:29:45.718853Z"
    }
   },
   "outputs": [],
   "source": [
    "for i in range(0,len(X[0])):\n",
    "    X[:,i] = X[:,i]/max(X[:,i])"
   ]
  },
  {
   "cell_type": "markdown",
   "metadata": {},
   "source": [
    "## Duplicate Data"
   ]
  },
  {
   "cell_type": "code",
   "execution_count": 7,
   "metadata": {
    "ExecuteTime": {
     "end_time": "2020-06-26T09:29:45.730323Z",
     "start_time": "2020-06-26T09:29:45.725700Z"
    }
   },
   "outputs": [],
   "source": [
    "from copy import deepcopy\n",
    "\n",
    "for i in range(0,5):\n",
    "    X = np.concatenate((X,X))\n",
    "    y = np.concatenate((y,y))"
   ]
  },
  {
   "cell_type": "code",
   "execution_count": 8,
   "metadata": {
    "ExecuteTime": {
     "end_time": "2020-06-26T09:29:45.745753Z",
     "start_time": "2020-06-26T09:29:45.733291Z"
    }
   },
   "outputs": [
    {
     "data": {
      "text/plain": [
       "4800"
      ]
     },
     "execution_count": 8,
     "metadata": {},
     "output_type": "execute_result"
    }
   ],
   "source": [
    "len(X)"
   ]
  },
  {
   "cell_type": "code",
   "execution_count": 9,
   "metadata": {
    "ExecuteTime": {
     "end_time": "2020-06-26T09:29:45.752054Z",
     "start_time": "2020-06-26T09:29:45.748048Z"
    }
   },
   "outputs": [
    {
     "data": {
      "text/plain": [
       "dict_keys(['data', 'target', 'target_names', 'DESCR', 'feature_names', 'filename'])"
      ]
     },
     "execution_count": 9,
     "metadata": {},
     "output_type": "execute_result"
    }
   ],
   "source": [
    "iris.keys()"
   ]
  },
  {
   "cell_type": "markdown",
   "metadata": {},
   "source": [
    "# Train-Test Split"
   ]
  },
  {
   "cell_type": "code",
   "execution_count": 10,
   "metadata": {
    "ExecuteTime": {
     "end_time": "2020-06-26T09:29:45.759807Z",
     "start_time": "2020-06-26T09:29:45.754394Z"
    }
   },
   "outputs": [],
   "source": [
    "x_train, x_test, y_train, y_test = train_test_split(X,y,stratify=y)"
   ]
  },
  {
   "cell_type": "markdown",
   "metadata": {},
   "source": [
    "## Check Stratification"
   ]
  },
  {
   "cell_type": "code",
   "execution_count": 11,
   "metadata": {
    "ExecuteTime": {
     "end_time": "2020-06-26T09:29:45.767693Z",
     "start_time": "2020-06-26T09:29:45.761833Z"
    }
   },
   "outputs": [
    {
     "data": {
      "text/plain": [
       "(array([0, 1, 2]), array([400, 400, 400]))"
      ]
     },
     "execution_count": 11,
     "metadata": {},
     "output_type": "execute_result"
    }
   ],
   "source": [
    "# y_test\n",
    "np.unique(y_test, return_counts=True)"
   ]
  },
  {
   "cell_type": "code",
   "execution_count": 12,
   "metadata": {
    "ExecuteTime": {
     "end_time": "2020-06-26T09:29:45.775235Z",
     "start_time": "2020-06-26T09:29:45.769928Z"
    }
   },
   "outputs": [
    {
     "data": {
      "text/plain": [
       "(array([0, 1, 2]), array([1200, 1200, 1200]))"
      ]
     },
     "execution_count": 12,
     "metadata": {},
     "output_type": "execute_result"
    }
   ],
   "source": [
    "np.unique(y_train, return_counts=True)"
   ]
  },
  {
   "cell_type": "markdown",
   "metadata": {},
   "source": [
    "Labels seem to be evenly divided in train and test datasets"
   ]
  },
  {
   "cell_type": "markdown",
   "metadata": {},
   "source": [
    "# Init Models & Train"
   ]
  },
  {
   "cell_type": "code",
   "execution_count": 13,
   "metadata": {
    "ExecuteTime": {
     "end_time": "2020-06-26T09:29:45.781411Z",
     "start_time": "2020-06-26T09:29:45.777680Z"
    }
   },
   "outputs": [],
   "source": [
    "from keras import callbacks as cb\n",
    "\n",
    "cb_earlystop = cb.EarlyStopping(\n",
    "    monitor='val_loss', min_delta=0.1, patience=4, verbose=0, mode='auto')\n",
    "\n",
    "models = {}"
   ]
  },
  {
   "cell_type": "markdown",
   "metadata": {},
   "source": [
    "## Model Parameters"
   ]
  },
  {
   "cell_type": "code",
   "execution_count": 14,
   "metadata": {
    "ExecuteTime": {
     "end_time": "2020-06-26T09:29:45.787520Z",
     "start_time": "2020-06-26T09:29:45.783771Z"
    }
   },
   "outputs": [],
   "source": [
    "o_dim = 4\n",
    "h_dim = 4\n",
    "c_dim = 2\n",
    "\n",
    "BATCH_SIZE = 16\n",
    "# o_dim = 784\n",
    "# h_dim = 300\n",
    "# c_dim = 15\n",
    "# BATCH_SIZE = 16"
   ]
  },
  {
   "cell_type": "code",
   "execution_count": 15,
   "metadata": {
    "ExecuteTime": {
     "end_time": "2020-06-26T09:29:45.793543Z",
     "start_time": "2020-06-26T09:29:45.789687Z"
    }
   },
   "outputs": [],
   "source": [
    "c = lambda _: [\n",
    "    cb_earlystop, \n",
    "    cb.CSVLogger(\"./log_results/log.{}.csv\".format(_))]\n",
    "model_types = [\"dirichlet_laplace\", \"dirichlet_kl\", \"logit\", \"normal\"]"
   ]
  },
  {
   "cell_type": "code",
   "execution_count": 16,
   "metadata": {
    "ExecuteTime": {
     "end_time": "2020-06-26T09:29:45.822289Z",
     "start_time": "2020-06-26T09:29:45.795784Z"
    }
   },
   "outputs": [],
   "source": [
    "models[\"dirichlet_laplace\"] = DirVae(\n",
    "    reparam=SamplingReparamLaplace, \n",
    "    batch_size=BATCH_SIZE, \n",
    "    original_dim=o_dim, \n",
    "    encoder_widths=h_dim, \n",
    "    latent_dim=c_dim, \n",
    "    decoder_width=h_dim,)\n",
    "#     log_alpha=True,  These two arguments are throwing errors, please check\n",
    "#     dropout=True)\n",
    "\n",
    "models[\"dirichlet_kl\"] = DirVae(\n",
    "    reparam=SamplingReparamLaplace, \n",
    "    batch_size=BATCH_SIZE, \n",
    "    original_dim=o_dim, \n",
    "    encoder_widths=h_dim, \n",
    "    latent_dim=c_dim, \n",
    "    decoder_width=h_dim,)\n",
    "#     log_alpha=True,\n",
    "#     dropout=True)\n",
    "\n",
    "models[\"logit\"] = GaussVae(\n",
    "    batch_size=BATCH_SIZE, \n",
    "    original_dim=o_dim, \n",
    "    encoder_widths=h_dim, \n",
    "    latent_dim=c_dim, \n",
    "    decoder_width=h_dim,\n",
    "    logit=True)\n",
    "\n",
    "models[\"normal\"] = GaussVae(\n",
    "    batch_size=BATCH_SIZE, \n",
    "    original_dim=o_dim, \n",
    "    encoder_widths=h_dim, \n",
    "    latent_dim=c_dim, \n",
    "    decoder_width=h_dim,\n",
    "    logit=False)"
   ]
  },
  {
   "cell_type": "code",
   "execution_count": 17,
   "metadata": {
    "ExecuteTime": {
     "end_time": "2020-06-26T09:29:45.829540Z",
     "start_time": "2020-06-26T09:29:45.824771Z"
    }
   },
   "outputs": [
    {
     "data": {
      "text/plain": [
       "['dirichlet_laplace', 'dirichlet_kl', 'logit', 'normal']"
      ]
     },
     "execution_count": 17,
     "metadata": {},
     "output_type": "execute_result"
    }
   ],
   "source": [
    "model_types"
   ]
  },
  {
   "cell_type": "markdown",
   "metadata": {},
   "source": [
    "## Fit Data"
   ]
  },
  {
   "cell_type": "code",
   "execution_count": 18,
   "metadata": {
    "ExecuteTime": {
     "end_time": "2020-06-26T09:29:59.011066Z",
     "start_time": "2020-06-26T09:29:45.831608Z"
    }
   },
   "outputs": [
    {
     "name": "stderr",
     "output_type": "stream",
     "text": [
      "/usr/local/anaconda/lib/python3.6/site-packages/ipykernel_launcher.py:1: TqdmDeprecationWarning: This function will be removed in tqdm==5.0.0\n",
      "Please use `tqdm.notebook.tqdm` instead of `tqdm.tqdm_notebook`\n",
      "  \"\"\"Entry point for launching an IPython kernel.\n"
     ]
    },
    {
     "data": {
      "application/vnd.jupyter.widget-view+json": {
       "model_id": "038f8b93b9934064a96a62d4d82f9aaf",
       "version_major": 2,
       "version_minor": 0
      },
      "text/plain": [
       "HBox(children=(FloatProgress(value=0.0, max=4.0), HTML(value='')))"
      ]
     },
     "metadata": {},
     "output_type": "display_data"
    },
    {
     "name": "stderr",
     "output_type": "stream",
     "text": [
      "/mnt/04_dirichlet_vae/Notebook/dirichlet-vae/vae/dirichlet.py:210: UserWarning: The `nb_epoch` argument in `fit` has been renamed `epochs`.\n",
      "  **kwargs))\n"
     ]
    },
    {
     "name": "stdout",
     "output_type": "stream",
     "text": [
      "Trianing dirichlet_laplacemodel\n",
      "Train on 3600 samples, validate on 1200 samples\n",
      "Epoch 1/30\n",
      "3600/3600 [==============================] - 1s 240us/step - loss: 1.6500 - val_loss: 1.5121\n",
      "Epoch 2/30\n",
      "3600/3600 [==============================] - 0s 94us/step - loss: 1.4718 - val_loss: 1.4448\n",
      "Epoch 3/30\n",
      "3600/3600 [==============================] - 0s 98us/step - loss: 1.4356 - val_loss: 1.4338\n",
      "Epoch 4/30\n",
      "3600/3600 [==============================] - 0s 92us/step - loss: 1.4299 - val_loss: 1.4309\n",
      "Epoch 5/30\n",
      "3600/3600 [==============================] - 0s 99us/step - loss: 1.4280 - val_loss: 1.4300\n",
      "Trianing dirichlet_klmodel\n",
      "Train on 3600 samples, validate on 1200 samples\n",
      "Epoch 1/30\n",
      "3600/3600 [==============================] - 1s 242us/step - loss: 1.6363 - val_loss: 1.4962\n",
      "Epoch 2/30\n",
      "3600/3600 [==============================] - 0s 95us/step - loss: 1.4513 - val_loss: 1.4377\n",
      "Epoch 3/30\n",
      "3600/3600 [==============================] - 0s 95us/step - loss: 1.4336 - val_loss: 1.4318\n",
      "Epoch 4/30\n",
      "3600/3600 [==============================] - 0s 96us/step - loss: 1.4268 - val_loss: 1.4309\n",
      "Epoch 5/30\n",
      "3600/3600 [==============================] - 0s 110us/step - loss: 1.4278 - val_loss: 1.4289\n",
      "Trianing logitmodel\n"
     ]
    },
    {
     "name": "stderr",
     "output_type": "stream",
     "text": [
      "/mnt/04_dirichlet_vae/Notebook/dirichlet-vae/vae/gauss.py:88: UserWarning: The `nb_epoch` argument in `fit` has been renamed `epochs`.\n",
      "  **kwargs))\n"
     ]
    },
    {
     "name": "stdout",
     "output_type": "stream",
     "text": [
      "Train on 3600 samples, validate on 1200 samples\n",
      "Epoch 1/30\n",
      "3600/3600 [==============================] - 1s 228us/step - loss: 3.0676 - val_loss: 2.7318\n",
      "Epoch 2/30\n",
      "3600/3600 [==============================] - 0s 91us/step - loss: 2.6702 - val_loss: 2.6271\n",
      "Epoch 3/30\n",
      "3600/3600 [==============================] - 0s 91us/step - loss: 2.6049 - val_loss: 2.5905\n",
      "Epoch 4/30\n",
      "3600/3600 [==============================] - 0s 91us/step - loss: 2.5808 - val_loss: 2.5795\n",
      "Epoch 5/30\n",
      "3600/3600 [==============================] - 0s 91us/step - loss: 2.5746 - val_loss: 2.5756\n",
      "Epoch 6/30\n",
      "3600/3600 [==============================] - 0s 93us/step - loss: 2.5730 - val_loss: 2.5751\n",
      "Trianing normalmodel\n",
      "Train on 3600 samples, validate on 1200 samples\n",
      "Epoch 1/30\n",
      "3600/3600 [==============================] - 1s 239us/step - loss: 2.8395 - val_loss: 2.7219\n",
      "Epoch 2/30\n",
      "3600/3600 [==============================] - 0s 92us/step - loss: 2.6688 - val_loss: 2.6361\n",
      "Epoch 3/30\n",
      "3600/3600 [==============================] - 0s 96us/step - loss: 2.6206 - val_loss: 2.6102\n",
      "Epoch 4/30\n",
      "3600/3600 [==============================] - 0s 95us/step - loss: 2.6003 - val_loss: 2.5929\n",
      "Epoch 5/30\n",
      "3600/3600 [==============================] - 0s 91us/step - loss: 2.5889 - val_loss: 2.5857\n",
      "Epoch 6/30\n",
      "3600/3600 [==============================] - 0s 96us/step - loss: 2.5806 - val_loss: 2.5829\n",
      "Epoch 7/30\n",
      "3600/3600 [==============================] - 0s 92us/step - loss: 2.5765 - val_loss: 2.5780\n",
      "\n"
     ]
    }
   ],
   "source": [
    "for i in tqdm_notebook(range(0,len(model_types))):\n",
    "    print(\"Trianing {}model\".format(model_types[i]))\n",
    "    models[model_types[i]].fit(\n",
    "                            x_train,\n",
    "                            x_test,\n",
    "    #                            x_train,\n",
    "                           callbacks=c(model_types[i]), \n",
    "                           nb_epoch=30)"
   ]
  },
  {
   "cell_type": "markdown",
   "metadata": {},
   "source": [
    "# Evaluation"
   ]
  },
  {
   "cell_type": "code",
   "execution_count": 19,
   "metadata": {
    "ExecuteTime": {
     "end_time": "2020-06-26T09:40:03.443145Z",
     "start_time": "2020-06-26T09:40:03.302672Z"
    }
   },
   "outputs": [],
   "source": [
    "from vae.evaluate import MnistMetrics\n",
    "\n",
    "%matplotlib inline"
   ]
  },
  {
   "cell_type": "code",
   "execution_count": 22,
   "metadata": {
    "ExecuteTime": {
     "end_time": "2020-06-26T09:40:41.066935Z",
     "start_time": "2020-06-26T09:40:40.860433Z"
    }
   },
   "outputs": [
    {
     "ename": "AttributeError",
     "evalue": "'GaussVae' object has no attribute 'encoder'",
     "output_type": "error",
     "traceback": [
      "\u001b[0;31m---------------------------------------------------------------------------\u001b[0m",
      "\u001b[0;31mAttributeError\u001b[0m                            Traceback (most recent call last)",
      "\u001b[0;32m<ipython-input-22-631b9f4895c8>\u001b[0m in \u001b[0;36m<module>\u001b[0;34m()\u001b[0m\n\u001b[0;32m----> 1\u001b[0;31m \u001b[0mm\u001b[0m \u001b[0;34m=\u001b[0m \u001b[0mMnistMetrics\u001b[0m\u001b[0;34m(\u001b[0m\u001b[0mmodels\u001b[0m\u001b[0;34m[\u001b[0m\u001b[0mmodel_types\u001b[0m\u001b[0;34m[\u001b[0m\u001b[0;36m3\u001b[0m\u001b[0;34m]\u001b[0m\u001b[0;34m]\u001b[0m\u001b[0;34m,\u001b[0m \u001b[0mx_test\u001b[0m\u001b[0;34m,\u001b[0m \u001b[0my_test\u001b[0m\u001b[0;34m,\u001b[0m \u001b[0mlogit\u001b[0m\u001b[0;34m=\u001b[0m\u001b[0;32mFalse\u001b[0m\u001b[0;34m)\u001b[0m\u001b[0;34m\u001b[0m\u001b[0m\n\u001b[0m",
      "\u001b[0;32m/mnt/04_dirichlet_vae/Notebook/dirichlet-vae/vae/evaluate.py\u001b[0m in \u001b[0;36m__init__\u001b[0;34m(self, vae, x_test, y_test, logit)\u001b[0m\n\u001b[1;32m      9\u001b[0m \u001b[0;32mclass\u001b[0m \u001b[0mMnistMetrics\u001b[0m\u001b[0;34m:\u001b[0m\u001b[0;34m\u001b[0m\u001b[0m\n\u001b[1;32m     10\u001b[0m     \u001b[0;32mdef\u001b[0m \u001b[0m__init__\u001b[0m\u001b[0;34m(\u001b[0m\u001b[0mself\u001b[0m\u001b[0;34m,\u001b[0m \u001b[0mvae\u001b[0m\u001b[0;34m,\u001b[0m \u001b[0mx_test\u001b[0m\u001b[0;34m,\u001b[0m \u001b[0my_test\u001b[0m\u001b[0;34m,\u001b[0m \u001b[0mlogit\u001b[0m\u001b[0;34m=\u001b[0m\u001b[0;32mFalse\u001b[0m\u001b[0;34m)\u001b[0m\u001b[0;34m:\u001b[0m\u001b[0;34m\u001b[0m\u001b[0m\n\u001b[0;32m---> 11\u001b[0;31m         \u001b[0mself\u001b[0m\u001b[0;34m.\u001b[0m\u001b[0mL\u001b[0m \u001b[0;34m=\u001b[0m \u001b[0mvae\u001b[0m\u001b[0;34m.\u001b[0m\u001b[0mencoder\u001b[0m\u001b[0;34m.\u001b[0m\u001b[0mpredict\u001b[0m\u001b[0;34m(\u001b[0m\u001b[0mx_test\u001b[0m\u001b[0;34m,\u001b[0m \u001b[0mbatch_size\u001b[0m\u001b[0;34m=\u001b[0m\u001b[0;36m16\u001b[0m\u001b[0;34m)\u001b[0m\u001b[0;34m\u001b[0m\u001b[0m\n\u001b[0m\u001b[1;32m     12\u001b[0m \u001b[0;34m\u001b[0m\u001b[0m\n\u001b[1;32m     13\u001b[0m         \u001b[0;32mif\u001b[0m \u001b[0mlogit\u001b[0m\u001b[0;34m:\u001b[0m\u001b[0;34m\u001b[0m\u001b[0m\n",
      "\u001b[0;31mAttributeError\u001b[0m: 'GaussVae' object has no attribute 'encoder'"
     ]
    }
   ],
   "source": [
    "m = MnistMetrics(models[model_types[3]], x_test, y_test, logit=False)"
   ]
  },
  {
   "cell_type": "code",
   "execution_count": 24,
   "metadata": {
    "ExecuteTime": {
     "end_time": "2020-06-26T09:43:44.201423Z",
     "start_time": "2020-06-26T09:43:44.197938Z"
    }
   },
   "outputs": [],
   "source": [
    "?models[model_types[3]]"
   ]
  },
  {
   "cell_type": "code",
   "execution_count": 21,
   "metadata": {
    "ExecuteTime": {
     "end_time": "2020-06-26T09:40:30.991877Z",
     "start_time": "2020-06-26T09:40:30.985303Z"
    }
   },
   "outputs": [
    {
     "data": {
      "text/plain": [
       "'logit'"
      ]
     },
     "execution_count": 21,
     "metadata": {},
     "output_type": "execute_result"
    }
   ],
   "source": [
    "# model_types[2`]"
   ]
  },
  {
   "cell_type": "code",
   "execution_count": null,
   "metadata": {},
   "outputs": [],
   "source": []
  },
  {
   "cell_type": "code",
   "execution_count": null,
   "metadata": {},
   "outputs": [],
   "source": []
  }
 ],
 "metadata": {
  "hide_input": false,
  "kernelspec": {
   "display_name": "Python 3",
   "language": "python",
   "name": "python3"
  },
  "language_info": {
   "codemirror_mode": {
    "name": "ipython",
    "version": 3
   },
   "file_extension": ".py",
   "mimetype": "text/x-python",
   "name": "python",
   "nbconvert_exporter": "python",
   "pygments_lexer": "ipython3",
   "version": "3.6.6"
  },
  "toc": {
   "base_numbering": 1,
   "nav_menu": {},
   "number_sections": true,
   "sideBar": true,
   "skip_h1_title": false,
   "title_cell": "Table of Contents",
   "title_sidebar": "Contents",
   "toc_cell": false,
   "toc_position": {},
   "toc_section_display": true,
   "toc_window_display": true
  }
 },
 "nbformat": 4,
 "nbformat_minor": 2
}
